{
 "cells": [
  {
   "cell_type": "markdown",
   "metadata": {},
   "source": [
    "# Recolectando los datos"
   ]
  },
  {
   "cell_type": "markdown",
   "metadata": {},
   "source": [
    "Importaciones necesarias"
   ]
  },
  {
   "cell_type": "code",
   "execution_count": 2,
   "metadata": {},
   "outputs": [],
   "source": [
    "import pandas as pd\n",
    "import matplotlib.pyplot as plt\n",
    "import statsmodels.formula.api as smf\n",
    "import numpy as np\n",
    "from scipy.stats import pearsonr\n"
   ]
  },
  {
   "cell_type": "markdown",
   "metadata": {},
   "source": [
    "Importando datos"
   ]
  },
  {
   "cell_type": "code",
   "execution_count": 3,
   "metadata": {},
   "outputs": [
    {
     "data": {
      "text/html": [
       "<div>\n",
       "<style scoped>\n",
       "    .dataframe tbody tr th:only-of-type {\n",
       "        vertical-align: middle;\n",
       "    }\n",
       "\n",
       "    .dataframe tbody tr th {\n",
       "        vertical-align: top;\n",
       "    }\n",
       "\n",
       "    .dataframe thead th {\n",
       "        text-align: right;\n",
       "    }\n",
       "</style>\n",
       "<table border=\"1\" class=\"dataframe\">\n",
       "  <thead>\n",
       "    <tr style=\"text-align: right;\">\n",
       "      <th></th>\n",
       "      <th>Fecha</th>\n",
       "      <th>precio_eth</th>\n",
       "      <th>volumen_eth</th>\n",
       "      <th>precio_nasdaq</th>\n",
       "      <th>volumen_nasdaq</th>\n",
       "    </tr>\n",
       "  </thead>\n",
       "  <tbody>\n",
       "    <tr>\n",
       "      <th>0</th>\n",
       "      <td>2015-09-08 00:00:00</td>\n",
       "      <td>1,236033261</td>\n",
       "      <td>419148,8018</td>\n",
       "      <td>4811,930176</td>\n",
       "      <td>1765600000</td>\n",
       "    </tr>\n",
       "    <tr>\n",
       "      <th>1</th>\n",
       "      <td>2015-09-09 00:00:00</td>\n",
       "      <td>1,206529945</td>\n",
       "      <td>367774,3319</td>\n",
       "      <td>4756,529785</td>\n",
       "      <td>1963750000</td>\n",
       "    </tr>\n",
       "    <tr>\n",
       "      <th>2</th>\n",
       "      <td>2015-09-10 00:00:00</td>\n",
       "      <td>1,167234841</td>\n",
       "      <td>639527,9175</td>\n",
       "      <td>4796,25</td>\n",
       "      <td>1845770000</td>\n",
       "    </tr>\n",
       "    <tr>\n",
       "      <th>3</th>\n",
       "      <td>2015-09-11 00:00:00</td>\n",
       "      <td>0,9765090927</td>\n",
       "      <td>1901710,695</td>\n",
       "      <td>4822,339844</td>\n",
       "      <td>1686190000</td>\n",
       "    </tr>\n",
       "    <tr>\n",
       "      <th>4</th>\n",
       "      <td>2015-09-14 00:00:00</td>\n",
       "      <td>0,8740229624</td>\n",
       "      <td>739213,7259</td>\n",
       "      <td>4805,759766</td>\n",
       "      <td>1467740000</td>\n",
       "    </tr>\n",
       "    <tr>\n",
       "      <th>...</th>\n",
       "      <td>...</td>\n",
       "      <td>...</td>\n",
       "      <td>...</td>\n",
       "      <td>...</td>\n",
       "      <td>...</td>\n",
       "    </tr>\n",
       "    <tr>\n",
       "      <th>1503</th>\n",
       "      <td>2021-08-30 00:00:00</td>\n",
       "      <td>3233,383152</td>\n",
       "      <td>14110206249</td>\n",
       "      <td>15265,88965</td>\n",
       "      <td>4061760000</td>\n",
       "    </tr>\n",
       "    <tr>\n",
       "      <th>1504</th>\n",
       "      <td>2021-08-31 00:00:00</td>\n",
       "      <td>3232,733863</td>\n",
       "      <td>21741061739</td>\n",
       "      <td>15259,24023</td>\n",
       "      <td>4188020000</td>\n",
       "    </tr>\n",
       "    <tr>\n",
       "      <th>1505</th>\n",
       "      <td>2021-09-01 00:00:00</td>\n",
       "      <td>3440,562336</td>\n",
       "      <td>32201644523</td>\n",
       "      <td>15309,37988</td>\n",
       "      <td>4271690000</td>\n",
       "    </tr>\n",
       "    <tr>\n",
       "      <th>1506</th>\n",
       "      <td>2021-09-02 00:00:00</td>\n",
       "      <td>3790,613996</td>\n",
       "      <td>34465100678</td>\n",
       "      <td>15331,17969</td>\n",
       "      <td>4050510000</td>\n",
       "    </tr>\n",
       "    <tr>\n",
       "      <th>1507</th>\n",
       "      <td>2021-09-03 00:00:00</td>\n",
       "      <td>3793,300743</td>\n",
       "      <td>28115776510</td>\n",
       "      <td>15363,51953</td>\n",
       "      <td>3706990000</td>\n",
       "    </tr>\n",
       "  </tbody>\n",
       "</table>\n",
       "<p>1508 rows × 5 columns</p>\n",
       "</div>"
      ],
      "text/plain": [
       "                    Fecha    precio_eth  volumen_eth precio_nasdaq  \\\n",
       "0     2015-09-08 00:00:00   1,236033261  419148,8018   4811,930176   \n",
       "1     2015-09-09 00:00:00   1,206529945  367774,3319   4756,529785   \n",
       "2     2015-09-10 00:00:00   1,167234841  639527,9175       4796,25   \n",
       "3     2015-09-11 00:00:00  0,9765090927  1901710,695   4822,339844   \n",
       "4     2015-09-14 00:00:00  0,8740229624  739213,7259   4805,759766   \n",
       "...                   ...           ...          ...           ...   \n",
       "1503  2021-08-30 00:00:00   3233,383152  14110206249   15265,88965   \n",
       "1504  2021-08-31 00:00:00   3232,733863  21741061739   15259,24023   \n",
       "1505  2021-09-01 00:00:00   3440,562336  32201644523   15309,37988   \n",
       "1506  2021-09-02 00:00:00   3790,613996  34465100678   15331,17969   \n",
       "1507  2021-09-03 00:00:00   3793,300743  28115776510   15363,51953   \n",
       "\n",
       "      volumen_nasdaq  \n",
       "0         1765600000  \n",
       "1         1963750000  \n",
       "2         1845770000  \n",
       "3         1686190000  \n",
       "4         1467740000  \n",
       "...              ...  \n",
       "1503      4061760000  \n",
       "1504      4188020000  \n",
       "1505      4271690000  \n",
       "1506      4050510000  \n",
       "1507      3706990000  \n",
       "\n",
       "[1508 rows x 5 columns]"
      ]
     },
     "execution_count": 3,
     "metadata": {},
     "output_type": "execute_result"
    }
   ],
   "source": [
    "df = pd.read_csv('./data/tesis_total_data - Sheet1.csv')\n",
    "df"
   ]
  },
  {
   "cell_type": "markdown",
   "metadata": {},
   "source": [
    "Creando un enuma para las variables en el dataframe"
   ]
  },
  {
   "cell_type": "code",
   "execution_count": 4,
   "metadata": {},
   "outputs": [
    {
     "name": "stdout",
     "output_type": "stream",
     "text": [
      "<class 'str'>\n"
     ]
    }
   ],
   "source": [
    "class DFV:\n",
    "    PRECIO_ETH = 'precio_eth'\n",
    "    VOLUMEN_ETH = 'volumen_eth'\n",
    "    PRECIO_NASDAQ = 'precio_nasdaq'\n",
    "    VOLUMEN_NASDAQ = 'volumen_nasdaq'\n",
    "    FECHA = \"Fecha\"\n",
    "\n",
    "\n",
    "\n",
    "print(type(DFV.PRECIO_ETH))"
   ]
  },
  {
   "cell_type": "markdown",
   "metadata": {},
   "source": [
    "### Analisis descriptivo de cada una de las variables"
   ]
  },
  {
   "cell_type": "markdown",
   "metadata": {},
   "source": [
    "#### Precio Etherium"
   ]
  },
  {
   "cell_type": "code",
   "execution_count": 5,
   "metadata": {},
   "outputs": [
    {
     "data": {
      "text/plain": [
       "count            1508\n",
       "unique           1508\n",
       "top       1,236033261\n",
       "freq                1\n",
       "Name: precio_eth, dtype: object"
      ]
     },
     "execution_count": 5,
     "metadata": {},
     "output_type": "execute_result"
    }
   ],
   "source": [
    "df[DFV.PRECIO_ETH].describe()"
   ]
  },
  {
   "cell_type": "markdown",
   "metadata": {},
   "source": [
    "#### Volumen Etherium"
   ]
  },
  {
   "cell_type": "code",
   "execution_count": 6,
   "metadata": {},
   "outputs": [
    {
     "data": {
      "text/plain": [
       "count            1508\n",
       "unique           1508\n",
       "top       419148,8018\n",
       "freq                1\n",
       "Name: volumen_eth, dtype: object"
      ]
     },
     "execution_count": 6,
     "metadata": {},
     "output_type": "execute_result"
    }
   ],
   "source": [
    "df[DFV.VOLUMEN_ETH].describe()"
   ]
  },
  {
   "cell_type": "markdown",
   "metadata": {},
   "source": [
    "#### Precio Nasdaq"
   ]
  },
  {
   "cell_type": "code",
   "execution_count": 7,
   "metadata": {},
   "outputs": [
    {
     "data": {
      "text/plain": [
       "count            1508\n",
       "unique           1503\n",
       "top       7953,879883\n",
       "freq                2\n",
       "Name: precio_nasdaq, dtype: object"
      ]
     },
     "execution_count": 7,
     "metadata": {},
     "output_type": "execute_result"
    }
   ],
   "source": [
    "df[DFV.PRECIO_NASDAQ].describe()"
   ]
  },
  {
   "cell_type": "markdown",
   "metadata": {},
   "source": [
    "#### Volumen Nasdaq"
   ]
  },
  {
   "cell_type": "code",
   "execution_count": 8,
   "metadata": {},
   "outputs": [
    {
     "data": {
      "text/plain": [
       "count    1.508000e+03\n",
       "mean     2.737043e+09\n",
       "std      1.367530e+09\n",
       "min      7.068800e+08\n",
       "25%      1.884398e+09\n",
       "50%      2.155635e+09\n",
       "75%      3.436315e+09\n",
       "max      1.162119e+10\n",
       "Name: volumen_nasdaq, dtype: float64"
      ]
     },
     "execution_count": 8,
     "metadata": {},
     "output_type": "execute_result"
    }
   ],
   "source": [
    "df[DFV.VOLUMEN_NASDAQ].describe()"
   ]
  },
  {
   "cell_type": "markdown",
   "metadata": {},
   "source": [
    "### Convirtiando las columnas en valores numericos"
   ]
  },
  {
   "cell_type": "code",
   "execution_count": 9,
   "metadata": {},
   "outputs": [
    {
     "data": {
      "text/html": [
       "<div>\n",
       "<style scoped>\n",
       "    .dataframe tbody tr th:only-of-type {\n",
       "        vertical-align: middle;\n",
       "    }\n",
       "\n",
       "    .dataframe tbody tr th {\n",
       "        vertical-align: top;\n",
       "    }\n",
       "\n",
       "    .dataframe thead th {\n",
       "        text-align: right;\n",
       "    }\n",
       "</style>\n",
       "<table border=\"1\" class=\"dataframe\">\n",
       "  <thead>\n",
       "    <tr style=\"text-align: right;\">\n",
       "      <th></th>\n",
       "      <th>Fecha</th>\n",
       "      <th>precio_eth</th>\n",
       "      <th>volumen_eth</th>\n",
       "      <th>precio_nasdaq</th>\n",
       "      <th>volumen_nasdaq</th>\n",
       "    </tr>\n",
       "  </thead>\n",
       "  <tbody>\n",
       "    <tr>\n",
       "      <th>0</th>\n",
       "      <td>2015-09-08 00:00:00</td>\n",
       "      <td>1.236033</td>\n",
       "      <td>4.191488e+05</td>\n",
       "      <td>4811.930176</td>\n",
       "      <td>1765600000</td>\n",
       "    </tr>\n",
       "    <tr>\n",
       "      <th>1</th>\n",
       "      <td>2015-09-09 00:00:00</td>\n",
       "      <td>1.206530</td>\n",
       "      <td>3.677743e+05</td>\n",
       "      <td>4756.529785</td>\n",
       "      <td>1963750000</td>\n",
       "    </tr>\n",
       "    <tr>\n",
       "      <th>2</th>\n",
       "      <td>2015-09-10 00:00:00</td>\n",
       "      <td>1.167235</td>\n",
       "      <td>6.395279e+05</td>\n",
       "      <td>4796.250000</td>\n",
       "      <td>1845770000</td>\n",
       "    </tr>\n",
       "    <tr>\n",
       "      <th>3</th>\n",
       "      <td>2015-09-11 00:00:00</td>\n",
       "      <td>0.976509</td>\n",
       "      <td>1.901711e+06</td>\n",
       "      <td>4822.339844</td>\n",
       "      <td>1686190000</td>\n",
       "    </tr>\n",
       "    <tr>\n",
       "      <th>4</th>\n",
       "      <td>2015-09-14 00:00:00</td>\n",
       "      <td>0.874023</td>\n",
       "      <td>7.392137e+05</td>\n",
       "      <td>4805.759766</td>\n",
       "      <td>1467740000</td>\n",
       "    </tr>\n",
       "    <tr>\n",
       "      <th>...</th>\n",
       "      <td>...</td>\n",
       "      <td>...</td>\n",
       "      <td>...</td>\n",
       "      <td>...</td>\n",
       "      <td>...</td>\n",
       "    </tr>\n",
       "    <tr>\n",
       "      <th>1503</th>\n",
       "      <td>2021-08-30 00:00:00</td>\n",
       "      <td>3233.383152</td>\n",
       "      <td>1.411021e+10</td>\n",
       "      <td>15265.889650</td>\n",
       "      <td>4061760000</td>\n",
       "    </tr>\n",
       "    <tr>\n",
       "      <th>1504</th>\n",
       "      <td>2021-08-31 00:00:00</td>\n",
       "      <td>3232.733863</td>\n",
       "      <td>2.174106e+10</td>\n",
       "      <td>15259.240230</td>\n",
       "      <td>4188020000</td>\n",
       "    </tr>\n",
       "    <tr>\n",
       "      <th>1505</th>\n",
       "      <td>2021-09-01 00:00:00</td>\n",
       "      <td>3440.562336</td>\n",
       "      <td>3.220164e+10</td>\n",
       "      <td>15309.379880</td>\n",
       "      <td>4271690000</td>\n",
       "    </tr>\n",
       "    <tr>\n",
       "      <th>1506</th>\n",
       "      <td>2021-09-02 00:00:00</td>\n",
       "      <td>3790.613996</td>\n",
       "      <td>3.446510e+10</td>\n",
       "      <td>15331.179690</td>\n",
       "      <td>4050510000</td>\n",
       "    </tr>\n",
       "    <tr>\n",
       "      <th>1507</th>\n",
       "      <td>2021-09-03 00:00:00</td>\n",
       "      <td>3793.300743</td>\n",
       "      <td>2.811578e+10</td>\n",
       "      <td>15363.519530</td>\n",
       "      <td>3706990000</td>\n",
       "    </tr>\n",
       "  </tbody>\n",
       "</table>\n",
       "<p>1508 rows × 5 columns</p>\n",
       "</div>"
      ],
      "text/plain": [
       "                    Fecha   precio_eth   volumen_eth  precio_nasdaq  \\\n",
       "0     2015-09-08 00:00:00     1.236033  4.191488e+05    4811.930176   \n",
       "1     2015-09-09 00:00:00     1.206530  3.677743e+05    4756.529785   \n",
       "2     2015-09-10 00:00:00     1.167235  6.395279e+05    4796.250000   \n",
       "3     2015-09-11 00:00:00     0.976509  1.901711e+06    4822.339844   \n",
       "4     2015-09-14 00:00:00     0.874023  7.392137e+05    4805.759766   \n",
       "...                   ...          ...           ...            ...   \n",
       "1503  2021-08-30 00:00:00  3233.383152  1.411021e+10   15265.889650   \n",
       "1504  2021-08-31 00:00:00  3232.733863  2.174106e+10   15259.240230   \n",
       "1505  2021-09-01 00:00:00  3440.562336  3.220164e+10   15309.379880   \n",
       "1506  2021-09-02 00:00:00  3790.613996  3.446510e+10   15331.179690   \n",
       "1507  2021-09-03 00:00:00  3793.300743  2.811578e+10   15363.519530   \n",
       "\n",
       "      volumen_nasdaq  \n",
       "0         1765600000  \n",
       "1         1963750000  \n",
       "2         1845770000  \n",
       "3         1686190000  \n",
       "4         1467740000  \n",
       "...              ...  \n",
       "1503      4061760000  \n",
       "1504      4188020000  \n",
       "1505      4271690000  \n",
       "1506      4050510000  \n",
       "1507      3706990000  \n",
       "\n",
       "[1508 rows x 5 columns]"
      ]
     },
     "execution_count": 9,
     "metadata": {},
     "output_type": "execute_result"
    }
   ],
   "source": [
    "# Quitando la coma\n",
    "df[DFV.PRECIO_ETH] = df[DFV.PRECIO_ETH].str.replace(',','.')\n",
    "df[DFV.VOLUMEN_ETH] = df[DFV.VOLUMEN_ETH].str.replace(',','.')\n",
    "df[DFV.PRECIO_NASDAQ] = df[DFV.PRECIO_NASDAQ].str.replace(',','.')\n",
    "# df['volumen_nasdaq'] = df['volumen_nasdaq'].str.replace(',','.')\n",
    "\n",
    "# Convirtiendo los valores en numeros\n",
    "df[DFV.PRECIO_ETH] = pd.to_numeric(df[DFV.PRECIO_ETH])\n",
    "df[DFV.VOLUMEN_ETH] = pd.to_numeric(df[DFV.VOLUMEN_ETH])\n",
    "df[DFV.PRECIO_NASDAQ] = pd.to_numeric(df[DFV.PRECIO_NASDAQ])\n",
    "df[DFV.VOLUMEN_NASDAQ] = pd.to_numeric(df[DFV.VOLUMEN_NASDAQ])\n",
    "\n",
    "df"
   ]
  },
  {
   "cell_type": "markdown",
   "metadata": {},
   "source": [
    "## Graficas Básicas"
   ]
  },
  {
   "cell_type": "code",
   "execution_count": 10,
   "metadata": {},
   "outputs": [
    {
     "data": {
      "image/png": "[encoded data removed]",
      "text/plain": [
       "<Figure size 640x480 with 1 Axes>"
      ]
     },
     "metadata": {},
     "output_type": "display_data"
    }
   ],
   "source": [
    "# Grafica Etherium\n",
    "df.plot(y=DFV.PRECIO_ETH)\n",
    "plt.title('Precios de Etherium 2015 - 2021')\n",
    "plt.xlabel('Tiempo')\n",
    "plt.ylabel('Precio')\n",
    "plt.show()"
   ]
  },
  {
   "cell_type": "code",
   "execution_count": 11,
   "metadata": {},
   "outputs": [
    {
     "data": {
      "image/png": "[encoded data removed]",
      "text/plain": [
       "<Figure size 640x480 with 1 Axes>"
      ]
     },
     "metadata": {},
     "output_type": "display_data"
    }
   ],
   "source": [
    "df.plot(y=DFV.VOLUMEN_ETH)\n",
    "plt.title('Volumen de Etherium 2015 - 2021')\n",
    "plt.xlabel('Tiempo')\n",
    "plt.ylabel('Volumen')\n",
    "plt.show()"
   ]
  },
  {
   "cell_type": "code",
   "execution_count": 12,
   "metadata": {},
   "outputs": [
    {
     "data": {
      "image/png": "[encoded data removed]",
      "text/plain": [
       "<Figure size 640x480 with 1 Axes>"
      ]
     },
     "metadata": {},
     "output_type": "display_data"
    }
   ],
   "source": [
    "df.plot(y=DFV.PRECIO_NASDAQ)\n",
    "plt.title('Precios de Nasdaq 2015 - 2021')\n",
    "plt.xlabel('Tiempo')\n",
    "plt.ylabel('Precio')\n",
    "plt.show()"
   ]
  },
  {
   "cell_type": "code",
   "execution_count": 13,
   "metadata": {},
   "outputs": [
    {
     "data": {
      "image/png": "[encoded data removed]",
      "text/plain": [
       "<Figure size 640x480 with 1 Axes>"
      ]
     },
     "metadata": {},
     "output_type": "display_data"
    }
   ],
   "source": [
    "df.plot(y=DFV.VOLUMEN_NASDAQ)\n",
    "plt.title('Volumen de Nasdaq 2015 - 2021')\n",
    "plt.xlabel('Tiempo')\n",
    "plt.ylabel('Volumen')\n",
    "plt.show()"
   ]
  },
  {
   "cell_type": "markdown",
   "metadata": {},
   "source": [
    "# Correlaciones"
   ]
  },
  {
   "cell_type": "markdown",
   "metadata": {},
   "source": [
    "## Correlacion de Pearson"
   ]
  },
  {
   "cell_type": "code",
   "execution_count": 14,
   "metadata": {},
   "outputs": [
    {
     "name": "stderr",
     "output_type": "stream",
     "text": [
      "C:\\Users\\Windows 10\\AppData\\Local\\Temp\\ipykernel_25220\\2355143037.py:1: FutureWarning: The default value of numeric_only in DataFrame.corr is deprecated. In a future version, it will default to False. Select only valid columns or specify the value of numeric_only to silence this warning.\n",
      "  corr_matrix = df.corr()\n"
     ]
    },
    {
     "data": {
      "text/html": [
       "<div>\n",
       "<style scoped>\n",
       "    .dataframe tbody tr th:only-of-type {\n",
       "        vertical-align: middle;\n",
       "    }\n",
       "\n",
       "    .dataframe tbody tr th {\n",
       "        vertical-align: top;\n",
       "    }\n",
       "\n",
       "    .dataframe thead th {\n",
       "        text-align: right;\n",
       "    }\n",
       "</style>\n",
       "<table border=\"1\" class=\"dataframe\">\n",
       "  <thead>\n",
       "    <tr style=\"text-align: right;\">\n",
       "      <th></th>\n",
       "      <th>precio_eth</th>\n",
       "      <th>volumen_eth</th>\n",
       "      <th>precio_nasdaq</th>\n",
       "      <th>volumen_nasdaq</th>\n",
       "    </tr>\n",
       "  </thead>\n",
       "  <tbody>\n",
       "    <tr>\n",
       "      <th>precio_eth</th>\n",
       "      <td>1.000000</td>\n",
       "      <td>0.745325</td>\n",
       "      <td>0.784610</td>\n",
       "      <td>0.560634</td>\n",
       "    </tr>\n",
       "    <tr>\n",
       "      <th>volumen_eth</th>\n",
       "      <td>0.745325</td>\n",
       "      <td>1.000000</td>\n",
       "      <td>0.773288</td>\n",
       "      <td>0.683257</td>\n",
       "    </tr>\n",
       "    <tr>\n",
       "      <th>precio_nasdaq</th>\n",
       "      <td>0.784610</td>\n",
       "      <td>0.773288</td>\n",
       "      <td>1.000000</td>\n",
       "      <td>0.779092</td>\n",
       "    </tr>\n",
       "    <tr>\n",
       "      <th>volumen_nasdaq</th>\n",
       "      <td>0.560634</td>\n",
       "      <td>0.683257</td>\n",
       "      <td>0.779092</td>\n",
       "      <td>1.000000</td>\n",
       "    </tr>\n",
       "  </tbody>\n",
       "</table>\n",
       "</div>"
      ],
      "text/plain": [
       "                precio_eth  volumen_eth  precio_nasdaq  volumen_nasdaq\n",
       "precio_eth        1.000000     0.745325       0.784610        0.560634\n",
       "volumen_eth       0.745325     1.000000       0.773288        0.683257\n",
       "precio_nasdaq     0.784610     0.773288       1.000000        0.779092\n",
       "volumen_nasdaq    0.560634     0.683257       0.779092        1.000000"
      ]
     },
     "execution_count": 14,
     "metadata": {},
     "output_type": "execute_result"
    }
   ],
   "source": [
    "corr_matrix = df.corr()\n",
    "corr_matrix"
   ]
  },
  {
   "cell_type": "markdown",
   "metadata": {},
   "source": [
    "## Calcular los valores p de dos lados para la correlación Pairwise"
   ]
  },
  {
   "cell_type": "code",
   "execution_count": 15,
   "metadata": {},
   "outputs": [
    {
     "data": {
      "text/plain": [
       "0.745324976958349"
      ]
     },
     "execution_count": 15,
     "metadata": {},
     "output_type": "execute_result"
    }
   ],
   "source": [
    "corr, p_value = pearsonr(df[DFV.PRECIO_ETH], df[DFV.VOLUMEN_ETH])\n",
    "corr\n"
   ]
  },
  {
   "cell_type": "code",
   "execution_count": 16,
   "metadata": {},
   "outputs": [],
   "source": [
    "# correlation = df.corr(method='holm')"
   ]
  },
  {
   "cell_type": "markdown",
   "metadata": {},
   "source": [
    "# Regresion Lineal"
   ]
  },
  {
   "cell_type": "markdown",
   "metadata": {},
   "source": [
    "## Precio Nadaq Respecto a precio Etherium"
   ]
  },
  {
   "cell_type": "code",
   "execution_count": 17,
   "metadata": {},
   "outputs": [
    {
     "data": {
      "text/html": [
       "<table class=\"simpletable\">\n",
       "<caption>OLS Regression Results</caption>\n",
       "<tr>\n",
       "  <th>Dep. Variable:</th>      <td>precio_nasdaq</td>  <th>  R-squared:         </th> <td>   0.616</td> \n",
       "</tr>\n",
       "<tr>\n",
       "  <th>Model:</th>                   <td>OLS</td>       <th>  Adj. R-squared:    </th> <td>   0.615</td> \n",
       "</tr>\n",
       "<tr>\n",
       "  <th>Method:</th>             <td>Least Squares</td>  <th>  F-statistic:       </th> <td>   2412.</td> \n",
       "</tr>\n",
       "<tr>\n",
       "  <th>Date:</th>             <td>Wed, 23 Aug 2023</td> <th>  Prob (F-statistic):</th> <td>5.61e-315</td>\n",
       "</tr>\n",
       "<tr>\n",
       "  <th>Time:</th>                 <td>14:11:18</td>     <th>  Log-Likelihood:    </th> <td> -13391.</td> \n",
       "</tr>\n",
       "<tr>\n",
       "  <th>No. Observations:</th>      <td>  1508</td>      <th>  AIC:               </th> <td>2.679e+04</td>\n",
       "</tr>\n",
       "<tr>\n",
       "  <th>Df Residuals:</th>          <td>  1506</td>      <th>  BIC:               </th> <td>2.680e+04</td>\n",
       "</tr>\n",
       "<tr>\n",
       "  <th>Df Model:</th>              <td>     1</td>      <th>                     </th>     <td> </td>    \n",
       "</tr>\n",
       "<tr>\n",
       "  <th>Covariance Type:</th>      <td>nonrobust</td>    <th>                     </th>     <td> </td>    \n",
       "</tr>\n",
       "</table>\n",
       "<table class=\"simpletable\">\n",
       "<tr>\n",
       "       <td></td>         <th>coef</th>     <th>std err</th>      <th>t</th>      <th>P>|t|</th>  <th>[0.025</th>    <th>0.975]</th>  \n",
       "</tr>\n",
       "<tr>\n",
       "  <th>Intercept</th>  <td> 6580.3242</td> <td>   53.022</td> <td>  124.105</td> <td> 0.000</td> <td> 6476.319</td> <td> 6684.330</td>\n",
       "</tr>\n",
       "<tr>\n",
       "  <th>precio_eth</th> <td>    3.0698</td> <td>    0.063</td> <td>   49.111</td> <td> 0.000</td> <td>    2.947</td> <td>    3.192</td>\n",
       "</tr>\n",
       "</table>\n",
       "<table class=\"simpletable\">\n",
       "<tr>\n",
       "  <th>Omnibus:</th>       <td>69.503</td> <th>  Durbin-Watson:     </th> <td>   0.016</td>\n",
       "</tr>\n",
       "<tr>\n",
       "  <th>Prob(Omnibus):</th> <td> 0.000</td> <th>  Jarque-Bera (JB):  </th> <td>  77.326</td>\n",
       "</tr>\n",
       "<tr>\n",
       "  <th>Skew:</th>          <td> 0.544</td> <th>  Prob(JB):          </th> <td>1.62e-17</td>\n",
       "</tr>\n",
       "<tr>\n",
       "  <th>Kurtosis:</th>      <td> 2.788</td> <th>  Cond. No.          </th> <td>1.00e+03</td>\n",
       "</tr>\n",
       "</table><br/><br/>Notes:<br/>[1] Standard Errors assume that the covariance matrix of the errors is correctly specified.<br/>[2] The condition number is large,  1e+03. This might indicate that there are<br/>strong multicollinearity or other numerical problems."
      ],
      "text/plain": [
       "<class 'statsmodels.iolib.summary.Summary'>\n",
       "\"\"\"\n",
       "                            OLS Regression Results                            \n",
       "==============================================================================\n",
       "Dep. Variable:          precio_nasdaq   R-squared:                       0.616\n",
       "Model:                            OLS   Adj. R-squared:                  0.615\n",
       "Method:                 Least Squares   F-statistic:                     2412.\n",
       "Date:                Wed, 23 Aug 2023   Prob (F-statistic):          5.61e-315\n",
       "Time:                        14:11:18   Log-Likelihood:                -13391.\n",
       "No. Observations:                1508   AIC:                         2.679e+04\n",
       "Df Residuals:                    1506   BIC:                         2.680e+04\n",
       "Df Model:                           1                                         \n",
       "Covariance Type:            nonrobust                                         \n",
       "==============================================================================\n",
       "                 coef    std err          t      P>|t|      [0.025      0.975]\n",
       "------------------------------------------------------------------------------\n",
       "Intercept   6580.3242     53.022    124.105      0.000    6476.319    6684.330\n",
       "precio_eth     3.0698      0.063     49.111      0.000       2.947       3.192\n",
       "==============================================================================\n",
       "Omnibus:                       69.503   Durbin-Watson:                   0.016\n",
       "Prob(Omnibus):                  0.000   Jarque-Bera (JB):               77.326\n",
       "Skew:                           0.544   Prob(JB):                     1.62e-17\n",
       "Kurtosis:                       2.788   Cond. No.                     1.00e+03\n",
       "==============================================================================\n",
       "\n",
       "Notes:\n",
       "[1] Standard Errors assume that the covariance matrix of the errors is correctly specified.\n",
       "[2] The condition number is large,  1e+03. This might indicate that there are\n",
       "strong multicollinearity or other numerical problems.\n",
       "\"\"\""
      ]
     },
     "execution_count": 17,
     "metadata": {},
     "output_type": "execute_result"
    }
   ],
   "source": [
    "model_h = smf.ols(f'{DFV.PRECIO_NASDAQ} ~ {DFV.PRECIO_ETH}', df)\n",
    "result_h = model_h.fit()\n",
    "result_h.summary()"
   ]
  },
  {
   "cell_type": "code",
   "execution_count": 18,
   "metadata": {},
   "outputs": [
    {
     "data": {
      "image/png": "[encoded data removed]",
      "text/plain": [
       "<Figure size 640x480 with 1 Axes>"
      ]
     },
     "metadata": {},
     "output_type": "display_data"
    }
   ],
   "source": [
    "# Graficando\n",
    "df.plot.scatter(x=DFV.PRECIO_ETH, y=DFV.PRECIO_NASDAQ)\n",
    "plt.show()"
   ]
  },
  {
   "cell_type": "markdown",
   "metadata": {},
   "source": [
    "## Regresion lineal multiple"
   ]
  },
  {
   "cell_type": "markdown",
   "metadata": {},
   "source": [
    "### Precio de Nasdaq Respecto a Precio de Etherium + Volumen de Etherium"
   ]
  },
  {
   "cell_type": "code",
   "execution_count": 19,
   "metadata": {},
   "outputs": [
    {
     "data": {
      "text/html": [
       "<table class=\"simpletable\">\n",
       "<caption>OLS Regression Results</caption>\n",
       "<tr>\n",
       "  <th>Dep. Variable:</th>      <td>precio_nasdaq</td>  <th>  R-squared:         </th> <td>   0.696</td> \n",
       "</tr>\n",
       "<tr>\n",
       "  <th>Model:</th>                   <td>OLS</td>       <th>  Adj. R-squared:    </th> <td>   0.695</td> \n",
       "</tr>\n",
       "<tr>\n",
       "  <th>Method:</th>             <td>Least Squares</td>  <th>  F-statistic:       </th> <td>   1719.</td> \n",
       "</tr>\n",
       "<tr>\n",
       "  <th>Date:</th>             <td>Wed, 23 Aug 2023</td> <th>  Prob (F-statistic):</th>  <td>  0.00</td>  \n",
       "</tr>\n",
       "<tr>\n",
       "  <th>Time:</th>                 <td>14:11:18</td>     <th>  Log-Likelihood:    </th> <td> -13215.</td> \n",
       "</tr>\n",
       "<tr>\n",
       "  <th>No. Observations:</th>      <td>  1508</td>      <th>  AIC:               </th> <td>2.644e+04</td>\n",
       "</tr>\n",
       "<tr>\n",
       "  <th>Df Residuals:</th>          <td>  1505</td>      <th>  BIC:               </th> <td>2.645e+04</td>\n",
       "</tr>\n",
       "<tr>\n",
       "  <th>Df Model:</th>              <td>     2</td>      <th>                     </th>     <td> </td>    \n",
       "</tr>\n",
       "<tr>\n",
       "  <th>Covariance Type:</th>      <td>nonrobust</td>    <th>                     </th>     <td> </td>    \n",
       "</tr>\n",
       "</table>\n",
       "<table class=\"simpletable\">\n",
       "<tr>\n",
       "       <td></td>          <th>coef</th>     <th>std err</th>      <th>t</th>      <th>P>|t|</th>  <th>[0.025</th>    <th>0.975]</th>  \n",
       "</tr>\n",
       "<tr>\n",
       "  <th>Intercept</th>   <td> 6431.4964</td> <td>   47.794</td> <td>  134.568</td> <td> 0.000</td> <td> 6337.747</td> <td> 6525.246</td>\n",
       "</tr>\n",
       "<tr>\n",
       "  <th>precio_eth</th>  <td>    1.8331</td> <td>    0.083</td> <td>   21.963</td> <td> 0.000</td> <td>    1.669</td> <td>    1.997</td>\n",
       "</tr>\n",
       "<tr>\n",
       "  <th>volumen_eth</th> <td> 8.721e-08</td> <td> 4.39e-09</td> <td>   19.879</td> <td> 0.000</td> <td> 7.86e-08</td> <td> 9.58e-08</td>\n",
       "</tr>\n",
       "</table>\n",
       "<table class=\"simpletable\">\n",
       "<tr>\n",
       "  <th>Omnibus:</th>       <td>100.044</td> <th>  Durbin-Watson:     </th> <td>   0.123</td>\n",
       "</tr>\n",
       "<tr>\n",
       "  <th>Prob(Omnibus):</th> <td> 0.000</td>  <th>  Jarque-Bera (JB):  </th> <td> 454.147</td>\n",
       "</tr>\n",
       "<tr>\n",
       "  <th>Skew:</th>          <td>-0.006</td>  <th>  Prob(JB):          </th> <td>2.42e-99</td>\n",
       "</tr>\n",
       "<tr>\n",
       "  <th>Kurtosis:</th>      <td> 5.688</td>  <th>  Cond. No.          </th> <td>1.90e+10</td>\n",
       "</tr>\n",
       "</table><br/><br/>Notes:<br/>[1] Standard Errors assume that the covariance matrix of the errors is correctly specified.<br/>[2] The condition number is large, 1.9e+10. This might indicate that there are<br/>strong multicollinearity or other numerical problems."
      ],
      "text/plain": [
       "<class 'statsmodels.iolib.summary.Summary'>\n",
       "\"\"\"\n",
       "                            OLS Regression Results                            \n",
       "==============================================================================\n",
       "Dep. Variable:          precio_nasdaq   R-squared:                       0.696\n",
       "Model:                            OLS   Adj. R-squared:                  0.695\n",
       "Method:                 Least Squares   F-statistic:                     1719.\n",
       "Date:                Wed, 23 Aug 2023   Prob (F-statistic):               0.00\n",
       "Time:                        14:11:18   Log-Likelihood:                -13215.\n",
       "No. Observations:                1508   AIC:                         2.644e+04\n",
       "Df Residuals:                    1505   BIC:                         2.645e+04\n",
       "Df Model:                           2                                         \n",
       "Covariance Type:            nonrobust                                         \n",
       "===============================================================================\n",
       "                  coef    std err          t      P>|t|      [0.025      0.975]\n",
       "-------------------------------------------------------------------------------\n",
       "Intercept    6431.4964     47.794    134.568      0.000    6337.747    6525.246\n",
       "precio_eth      1.8331      0.083     21.963      0.000       1.669       1.997\n",
       "volumen_eth  8.721e-08   4.39e-09     19.879      0.000    7.86e-08    9.58e-08\n",
       "==============================================================================\n",
       "Omnibus:                      100.044   Durbin-Watson:                   0.123\n",
       "Prob(Omnibus):                  0.000   Jarque-Bera (JB):              454.147\n",
       "Skew:                          -0.006   Prob(JB):                     2.42e-99\n",
       "Kurtosis:                       5.688   Cond. No.                     1.90e+10\n",
       "==============================================================================\n",
       "\n",
       "Notes:\n",
       "[1] Standard Errors assume that the covariance matrix of the errors is correctly specified.\n",
       "[2] The condition number is large, 1.9e+10. This might indicate that there are\n",
       "strong multicollinearity or other numerical problems.\n",
       "\"\"\""
      ]
     },
     "execution_count": 19,
     "metadata": {},
     "output_type": "execute_result"
    }
   ],
   "source": [
    "model_Reg2 = smf.ols('precio_nasdaq ~ precio_eth + volumen_eth', df)\n",
    "result_Reg2 = model_Reg2.fit()\n",
    "result_Reg2.summary()"
   ]
  },
  {
   "cell_type": "code",
   "execution_count": 20,
   "metadata": {},
   "outputs": [
    {
     "data": {
      "image/png": "[encoded data removed]",
      "text/plain": [
       "<Figure size 640x480 with 4 Axes>"
      ]
     },
     "metadata": {},
     "output_type": "display_data"
    }
   ],
   "source": [
    "df.hist()\n",
    "plt.show()"
   ]
  },
  {
   "cell_type": "code",
   "execution_count": 21,
   "metadata": {},
   "outputs": [],
   "source": [
    "# Graficando\n",
    "# df.plot.scatter(x=[\"precio_eth\", \"volumen_eth\"], y=\"precio_nasdaq\")\n",
    "# plt.show()"
   ]
  },
  {
   "cell_type": "markdown",
   "metadata": {},
   "source": [
    "### Precio de Nasdaq Respecto a Precio de Etherium + Volumen de Etherium + Volumen de Nasdaq"
   ]
  },
  {
   "cell_type": "code",
   "execution_count": 22,
   "metadata": {},
   "outputs": [
    {
     "data": {
      "text/html": [
       "<table class=\"simpletable\">\n",
       "<caption>OLS Regression Results</caption>\n",
       "<tr>\n",
       "  <th>Dep. Variable:</th>      <td>precio_nasdaq</td>  <th>  R-squared:         </th> <td>   0.793</td> \n",
       "</tr>\n",
       "<tr>\n",
       "  <th>Model:</th>                   <td>OLS</td>       <th>  Adj. R-squared:    </th> <td>   0.793</td> \n",
       "</tr>\n",
       "<tr>\n",
       "  <th>Method:</th>             <td>Least Squares</td>  <th>  F-statistic:       </th> <td>   1921.</td> \n",
       "</tr>\n",
       "<tr>\n",
       "  <th>Date:</th>             <td>Wed, 23 Aug 2023</td> <th>  Prob (F-statistic):</th>  <td>  0.00</td>  \n",
       "</tr>\n",
       "<tr>\n",
       "  <th>Time:</th>                 <td>14:11:19</td>     <th>  Log-Likelihood:    </th> <td> -12925.</td> \n",
       "</tr>\n",
       "<tr>\n",
       "  <th>No. Observations:</th>      <td>  1508</td>      <th>  AIC:               </th> <td>2.586e+04</td>\n",
       "</tr>\n",
       "<tr>\n",
       "  <th>Df Residuals:</th>          <td>  1504</td>      <th>  BIC:               </th> <td>2.588e+04</td>\n",
       "</tr>\n",
       "<tr>\n",
       "  <th>Df Model:</th>              <td>     3</td>      <th>                     </th>     <td> </td>    \n",
       "</tr>\n",
       "<tr>\n",
       "  <th>Covariance Type:</th>      <td>nonrobust</td>    <th>                     </th>     <td> </td>    \n",
       "</tr>\n",
       "</table>\n",
       "<table class=\"simpletable\">\n",
       "<tr>\n",
       "         <td></td>           <th>coef</th>     <th>std err</th>      <th>t</th>      <th>P>|t|</th>  <th>[0.025</th>    <th>0.975]</th>  \n",
       "</tr>\n",
       "<tr>\n",
       "  <th>Intercept</th>      <td> 4534.4626</td> <td>   81.468</td> <td>   55.659</td> <td> 0.000</td> <td> 4374.659</td> <td> 4694.266</td>\n",
       "</tr>\n",
       "<tr>\n",
       "  <th>precio_eth</th>     <td>    1.6387</td> <td>    0.069</td> <td>   23.669</td> <td> 0.000</td> <td>    1.503</td> <td>    1.774</td>\n",
       "</tr>\n",
       "<tr>\n",
       "  <th>volumen_eth</th>    <td> 3.442e-08</td> <td> 4.13e-09</td> <td>    8.340</td> <td> 0.000</td> <td> 2.63e-08</td> <td> 4.25e-08</td>\n",
       "</tr>\n",
       "<tr>\n",
       "  <th>volumen_nasdaq</th> <td> 8.822e-07</td> <td> 3.32e-08</td> <td>   26.608</td> <td> 0.000</td> <td> 8.17e-07</td> <td> 9.47e-07</td>\n",
       "</tr>\n",
       "</table>\n",
       "<table class=\"simpletable\">\n",
       "<tr>\n",
       "  <th>Omnibus:</th>       <td> 7.994</td> <th>  Durbin-Watson:     </th> <td>   0.192</td>\n",
       "</tr>\n",
       "<tr>\n",
       "  <th>Prob(Omnibus):</th> <td> 0.018</td> <th>  Jarque-Bera (JB):  </th> <td>  10.299</td>\n",
       "</tr>\n",
       "<tr>\n",
       "  <th>Skew:</th>          <td> 0.039</td> <th>  Prob(JB):          </th> <td> 0.00580</td>\n",
       "</tr>\n",
       "<tr>\n",
       "  <th>Kurtosis:</th>      <td> 3.397</td> <th>  Cond. No.          </th> <td>3.97e+10</td>\n",
       "</tr>\n",
       "</table><br/><br/>Notes:<br/>[1] Standard Errors assume that the covariance matrix of the errors is correctly specified.<br/>[2] The condition number is large, 3.97e+10. This might indicate that there are<br/>strong multicollinearity or other numerical problems."
      ],
      "text/plain": [
       "<class 'statsmodels.iolib.summary.Summary'>\n",
       "\"\"\"\n",
       "                            OLS Regression Results                            \n",
       "==============================================================================\n",
       "Dep. Variable:          precio_nasdaq   R-squared:                       0.793\n",
       "Model:                            OLS   Adj. R-squared:                  0.793\n",
       "Method:                 Least Squares   F-statistic:                     1921.\n",
       "Date:                Wed, 23 Aug 2023   Prob (F-statistic):               0.00\n",
       "Time:                        14:11:19   Log-Likelihood:                -12925.\n",
       "No. Observations:                1508   AIC:                         2.586e+04\n",
       "Df Residuals:                    1504   BIC:                         2.588e+04\n",
       "Df Model:                           3                                         \n",
       "Covariance Type:            nonrobust                                         \n",
       "==================================================================================\n",
       "                     coef    std err          t      P>|t|      [0.025      0.975]\n",
       "----------------------------------------------------------------------------------\n",
       "Intercept       4534.4626     81.468     55.659      0.000    4374.659    4694.266\n",
       "precio_eth         1.6387      0.069     23.669      0.000       1.503       1.774\n",
       "volumen_eth     3.442e-08   4.13e-09      8.340      0.000    2.63e-08    4.25e-08\n",
       "volumen_nasdaq  8.822e-07   3.32e-08     26.608      0.000    8.17e-07    9.47e-07\n",
       "==============================================================================\n",
       "Omnibus:                        7.994   Durbin-Watson:                   0.192\n",
       "Prob(Omnibus):                  0.018   Jarque-Bera (JB):               10.299\n",
       "Skew:                           0.039   Prob(JB):                      0.00580\n",
       "Kurtosis:                       3.397   Cond. No.                     3.97e+10\n",
       "==============================================================================\n",
       "\n",
       "Notes:\n",
       "[1] Standard Errors assume that the covariance matrix of the errors is correctly specified.\n",
       "[2] The condition number is large, 3.97e+10. This might indicate that there are\n",
       "strong multicollinearity or other numerical problems.\n",
       "\"\"\""
      ]
     },
     "execution_count": 22,
     "metadata": {},
     "output_type": "execute_result"
    }
   ],
   "source": [
    "model_Reg3 = smf.ols('precio_nasdaq ~ precio_eth + volumen_eth + volumen_nasdaq', df)\n",
    "result_Reg3 = model_Reg3.fit()\n",
    "result_Reg3.summary()"
   ]
  },
  {
   "cell_type": "markdown",
   "metadata": {},
   "source": [
    "### Criterio de Información de Akaike (AIC): model_Reg3"
   ]
  },
  {
   "cell_type": "code",
   "execution_count": 23,
   "metadata": {},
   "outputs": [
    {
     "data": {
      "text/plain": [
       "25857.129763015902"
      ]
     },
     "execution_count": 23,
     "metadata": {},
     "output_type": "execute_result"
    }
   ],
   "source": [
    "aic = result_Reg3.aic\n",
    "aic"
   ]
  },
  {
   "cell_type": "markdown",
   "metadata": {},
   "source": [
    "### Intervalos de confianza: model_Reg3"
   ]
  },
  {
   "cell_type": "code",
   "execution_count": 24,
   "metadata": {},
   "outputs": [
    {
     "data": {
      "text/html": [
       "<div>\n",
       "<style scoped>\n",
       "    .dataframe tbody tr th:only-of-type {\n",
       "        vertical-align: middle;\n",
       "    }\n",
       "\n",
       "    .dataframe tbody tr th {\n",
       "        vertical-align: top;\n",
       "    }\n",
       "\n",
       "    .dataframe thead th {\n",
       "        text-align: right;\n",
       "    }\n",
       "</style>\n",
       "<table border=\"1\" class=\"dataframe\">\n",
       "  <thead>\n",
       "    <tr style=\"text-align: right;\">\n",
       "      <th></th>\n",
       "      <th>0</th>\n",
       "      <th>1</th>\n",
       "    </tr>\n",
       "  </thead>\n",
       "  <tbody>\n",
       "    <tr>\n",
       "      <th>Intercept</th>\n",
       "      <td>4.374659e+03</td>\n",
       "      <td>4.694266e+03</td>\n",
       "    </tr>\n",
       "    <tr>\n",
       "      <th>precio_eth</th>\n",
       "      <td>1.502868e+00</td>\n",
       "      <td>1.774477e+00</td>\n",
       "    </tr>\n",
       "    <tr>\n",
       "      <th>volumen_eth</th>\n",
       "      <td>2.632438e-08</td>\n",
       "      <td>4.251402e-08</td>\n",
       "    </tr>\n",
       "    <tr>\n",
       "      <th>volumen_nasdaq</th>\n",
       "      <td>8.171557e-07</td>\n",
       "      <td>9.472239e-07</td>\n",
       "    </tr>\n",
       "  </tbody>\n",
       "</table>\n",
       "</div>"
      ],
      "text/plain": [
       "                           0             1\n",
       "Intercept       4.374659e+03  4.694266e+03\n",
       "precio_eth      1.502868e+00  1.774477e+00\n",
       "volumen_eth     2.632438e-08  4.251402e-08\n",
       "volumen_nasdaq  8.171557e-07  9.472239e-07"
      ]
     },
     "execution_count": 24,
     "metadata": {},
     "output_type": "execute_result"
    }
   ],
   "source": [
    "# 95% de intervalo de confianza\n",
    "conf_int = result_Reg3.conf_int(alpha=0.05)\n",
    "conf_int"
   ]
  },
  {
   "cell_type": "markdown",
   "metadata": {},
   "source": [
    "### Anova: model_Reg3"
   ]
  },
  {
   "cell_type": "code",
   "execution_count": 25,
   "metadata": {},
   "outputs": [],
   "source": [
    "from statsmodels.stats.anova import anova_lm"
   ]
  },
  {
   "cell_type": "code",
   "execution_count": 26,
   "metadata": {},
   "outputs": [
    {
     "data": {
      "text/html": [
       "<div>\n",
       "<style scoped>\n",
       "    .dataframe tbody tr th:only-of-type {\n",
       "        vertical-align: middle;\n",
       "    }\n",
       "\n",
       "    .dataframe tbody tr th {\n",
       "        vertical-align: top;\n",
       "    }\n",
       "\n",
       "    .dataframe thead th {\n",
       "        text-align: right;\n",
       "    }\n",
       "</style>\n",
       "<table border=\"1\" class=\"dataframe\">\n",
       "  <thead>\n",
       "    <tr style=\"text-align: right;\">\n",
       "      <th></th>\n",
       "      <th>df</th>\n",
       "      <th>sum_sq</th>\n",
       "      <th>mean_sq</th>\n",
       "      <th>F</th>\n",
       "      <th>PR(&gt;F)</th>\n",
       "    </tr>\n",
       "  </thead>\n",
       "  <tbody>\n",
       "    <tr>\n",
       "      <th>precio_eth</th>\n",
       "      <td>1.0</td>\n",
       "      <td>7.305415e+09</td>\n",
       "      <td>7.305415e+09</td>\n",
       "      <td>4472.800404</td>\n",
       "      <td>0.000000e+00</td>\n",
       "    </tr>\n",
       "    <tr>\n",
       "      <th>volumen_eth</th>\n",
       "      <td>1.0</td>\n",
       "      <td>9.486161e+08</td>\n",
       "      <td>9.486161e+08</td>\n",
       "      <td>580.798003</td>\n",
       "      <td>8.795853e-109</td>\n",
       "    </tr>\n",
       "    <tr>\n",
       "      <th>volumen_nasdaq</th>\n",
       "      <td>1.0</td>\n",
       "      <td>1.156387e+09</td>\n",
       "      <td>1.156387e+09</td>\n",
       "      <td>708.007144</td>\n",
       "      <td>3.723178e-128</td>\n",
       "    </tr>\n",
       "    <tr>\n",
       "      <th>Residual</th>\n",
       "      <td>1504.0</td>\n",
       "      <td>2.456480e+09</td>\n",
       "      <td>1.633298e+06</td>\n",
       "      <td>NaN</td>\n",
       "      <td>NaN</td>\n",
       "    </tr>\n",
       "  </tbody>\n",
       "</table>\n",
       "</div>"
      ],
      "text/plain": [
       "                    df        sum_sq       mean_sq            F         PR(>F)\n",
       "precio_eth         1.0  7.305415e+09  7.305415e+09  4472.800404   0.000000e+00\n",
       "volumen_eth        1.0  9.486161e+08  9.486161e+08   580.798003  8.795853e-109\n",
       "volumen_nasdaq     1.0  1.156387e+09  1.156387e+09   708.007144  3.723178e-128\n",
       "Residual        1504.0  2.456480e+09  1.633298e+06          NaN            NaN"
      ]
     },
     "execution_count": 26,
     "metadata": {},
     "output_type": "execute_result"
    }
   ],
   "source": [
    "anova_results_Reg3 = anova_lm(result_Reg3)\n",
    "anova_results_Reg3"
   ]
  },
  {
   "cell_type": "markdown",
   "metadata": {},
   "source": [
    "### Anova: model_Reg2"
   ]
  },
  {
   "cell_type": "code",
   "execution_count": 27,
   "metadata": {},
   "outputs": [
    {
     "data": {
      "text/html": [
       "<div>\n",
       "<style scoped>\n",
       "    .dataframe tbody tr th:only-of-type {\n",
       "        vertical-align: middle;\n",
       "    }\n",
       "\n",
       "    .dataframe tbody tr th {\n",
       "        vertical-align: top;\n",
       "    }\n",
       "\n",
       "    .dataframe thead th {\n",
       "        text-align: right;\n",
       "    }\n",
       "</style>\n",
       "<table border=\"1\" class=\"dataframe\">\n",
       "  <thead>\n",
       "    <tr style=\"text-align: right;\">\n",
       "      <th></th>\n",
       "      <th>df</th>\n",
       "      <th>sum_sq</th>\n",
       "      <th>mean_sq</th>\n",
       "      <th>F</th>\n",
       "      <th>PR(&gt;F)</th>\n",
       "    </tr>\n",
       "  </thead>\n",
       "  <tbody>\n",
       "    <tr>\n",
       "      <th>precio_eth</th>\n",
       "      <td>1.0</td>\n",
       "      <td>7.305415e+09</td>\n",
       "      <td>7.305415e+09</td>\n",
       "      <td>3043.192978</td>\n",
       "      <td>0.000000e+00</td>\n",
       "    </tr>\n",
       "    <tr>\n",
       "      <th>volumen_eth</th>\n",
       "      <td>1.0</td>\n",
       "      <td>9.486161e+08</td>\n",
       "      <td>9.486161e+08</td>\n",
       "      <td>395.161922</td>\n",
       "      <td>2.879375e-78</td>\n",
       "    </tr>\n",
       "    <tr>\n",
       "      <th>Residual</th>\n",
       "      <td>1505.0</td>\n",
       "      <td>3.612866e+09</td>\n",
       "      <td>2.400576e+06</td>\n",
       "      <td>NaN</td>\n",
       "      <td>NaN</td>\n",
       "    </tr>\n",
       "  </tbody>\n",
       "</table>\n",
       "</div>"
      ],
      "text/plain": [
       "                 df        sum_sq       mean_sq            F        PR(>F)\n",
       "precio_eth      1.0  7.305415e+09  7.305415e+09  3043.192978  0.000000e+00\n",
       "volumen_eth     1.0  9.486161e+08  9.486161e+08   395.161922  2.879375e-78\n",
       "Residual     1505.0  3.612866e+09  2.400576e+06          NaN           NaN"
      ]
     },
     "execution_count": 27,
     "metadata": {},
     "output_type": "execute_result"
    }
   ],
   "source": [
    "anova_results_Reg2 = anova_lm(result_Reg2)\n",
    "anova_results_Reg2"
   ]
  },
  {
   "cell_type": "markdown",
   "metadata": {},
   "source": [
    "# Modelo de GARCH"
   ]
  },
  {
   "cell_type": "markdown",
   "metadata": {},
   "source": [
    "## Intalando dependencias"
   ]
  },
  {
   "cell_type": "code",
   "execution_count": 28,
   "metadata": {},
   "outputs": [
    {
     "name": "stdout",
     "output_type": "stream",
     "text": [
      "Requirement already satisfied: arch in c:\\users\\windows 10\\anaconda3\\lib\\site-packages (6.1.0)Note: you may need to restart the kernel to use updated packages.\n",
      "\n",
      "Requirement already satisfied: numpy>=1.19 in c:\\users\\windows 10\\anaconda3\\lib\\site-packages (from arch) (1.24.3)\n",
      "Requirement already satisfied: scipy>=1.5 in c:\\users\\windows 10\\anaconda3\\lib\\site-packages (from arch) (1.10.1)\n",
      "Requirement already satisfied: pandas>=1.1 in c:\\users\\windows 10\\anaconda3\\lib\\site-packages (from arch) (1.5.3)\n",
      "Requirement already satisfied: statsmodels>=0.12 in c:\\users\\windows 10\\anaconda3\\lib\\site-packages (from arch) (0.13.5)\n",
      "Requirement already satisfied: python-dateutil>=2.8.1 in c:\\users\\windows 10\\anaconda3\\lib\\site-packages (from pandas>=1.1->arch) (2.8.2)\n",
      "Requirement already satisfied: pytz>=2020.1 in c:\\users\\windows 10\\anaconda3\\lib\\site-packages (from pandas>=1.1->arch) (2022.7)\n",
      "Requirement already satisfied: patsy>=0.5.2 in c:\\users\\windows 10\\anaconda3\\lib\\site-packages (from statsmodels>=0.12->arch) (0.5.3)\n",
      "Requirement already satisfied: packaging>=21.3 in c:\\users\\windows 10\\anaconda3\\lib\\site-packages (from statsmodels>=0.12->arch) (23.0)\n",
      "Requirement already satisfied: six in c:\\users\\windows 10\\anaconda3\\lib\\site-packages (from patsy>=0.5.2->statsmodels>=0.12->arch) (1.16.0)\n"
     ]
    }
   ],
   "source": [
    "%pip install arch"
   ]
  },
  {
   "cell_type": "code",
   "execution_count": 29,
   "metadata": {},
   "outputs": [],
   "source": [
    "import arch"
   ]
  },
  {
   "cell_type": "markdown",
   "metadata": {},
   "source": [
    "## Copiando el dataframe"
   ]
  },
  {
   "cell_type": "code",
   "execution_count": 30,
   "metadata": {},
   "outputs": [
    {
     "data": {
      "text/html": [
       "<div>\n",
       "<style scoped>\n",
       "    .dataframe tbody tr th:only-of-type {\n",
       "        vertical-align: middle;\n",
       "    }\n",
       "\n",
       "    .dataframe tbody tr th {\n",
       "        vertical-align: top;\n",
       "    }\n",
       "\n",
       "    .dataframe thead th {\n",
       "        text-align: right;\n",
       "    }\n",
       "</style>\n",
       "<table border=\"1\" class=\"dataframe\">\n",
       "  <thead>\n",
       "    <tr style=\"text-align: right;\">\n",
       "      <th></th>\n",
       "      <th>Fecha</th>\n",
       "      <th>precio_eth</th>\n",
       "      <th>volumen_eth</th>\n",
       "      <th>precio_nasdaq</th>\n",
       "      <th>volumen_nasdaq</th>\n",
       "    </tr>\n",
       "  </thead>\n",
       "  <tbody>\n",
       "    <tr>\n",
       "      <th>0</th>\n",
       "      <td>2015-09-08 00:00:00</td>\n",
       "      <td>1.236033</td>\n",
       "      <td>4.191488e+05</td>\n",
       "      <td>4811.930176</td>\n",
       "      <td>1765600000</td>\n",
       "    </tr>\n",
       "    <tr>\n",
       "      <th>1</th>\n",
       "      <td>2015-09-09 00:00:00</td>\n",
       "      <td>1.206530</td>\n",
       "      <td>3.677743e+05</td>\n",
       "      <td>4756.529785</td>\n",
       "      <td>1963750000</td>\n",
       "    </tr>\n",
       "    <tr>\n",
       "      <th>2</th>\n",
       "      <td>2015-09-10 00:00:00</td>\n",
       "      <td>1.167235</td>\n",
       "      <td>6.395279e+05</td>\n",
       "      <td>4796.250000</td>\n",
       "      <td>1845770000</td>\n",
       "    </tr>\n",
       "    <tr>\n",
       "      <th>3</th>\n",
       "      <td>2015-09-11 00:00:00</td>\n",
       "      <td>0.976509</td>\n",
       "      <td>1.901711e+06</td>\n",
       "      <td>4822.339844</td>\n",
       "      <td>1686190000</td>\n",
       "    </tr>\n",
       "    <tr>\n",
       "      <th>4</th>\n",
       "      <td>2015-09-14 00:00:00</td>\n",
       "      <td>0.874023</td>\n",
       "      <td>7.392137e+05</td>\n",
       "      <td>4805.759766</td>\n",
       "      <td>1467740000</td>\n",
       "    </tr>\n",
       "    <tr>\n",
       "      <th>...</th>\n",
       "      <td>...</td>\n",
       "      <td>...</td>\n",
       "      <td>...</td>\n",
       "      <td>...</td>\n",
       "      <td>...</td>\n",
       "    </tr>\n",
       "    <tr>\n",
       "      <th>1503</th>\n",
       "      <td>2021-08-30 00:00:00</td>\n",
       "      <td>3233.383152</td>\n",
       "      <td>1.411021e+10</td>\n",
       "      <td>15265.889650</td>\n",
       "      <td>4061760000</td>\n",
       "    </tr>\n",
       "    <tr>\n",
       "      <th>1504</th>\n",
       "      <td>2021-08-31 00:00:00</td>\n",
       "      <td>3232.733863</td>\n",
       "      <td>2.174106e+10</td>\n",
       "      <td>15259.240230</td>\n",
       "      <td>4188020000</td>\n",
       "    </tr>\n",
       "    <tr>\n",
       "      <th>1505</th>\n",
       "      <td>2021-09-01 00:00:00</td>\n",
       "      <td>3440.562336</td>\n",
       "      <td>3.220164e+10</td>\n",
       "      <td>15309.379880</td>\n",
       "      <td>4271690000</td>\n",
       "    </tr>\n",
       "    <tr>\n",
       "      <th>1506</th>\n",
       "      <td>2021-09-02 00:00:00</td>\n",
       "      <td>3790.613996</td>\n",
       "      <td>3.446510e+10</td>\n",
       "      <td>15331.179690</td>\n",
       "      <td>4050510000</td>\n",
       "    </tr>\n",
       "    <tr>\n",
       "      <th>1507</th>\n",
       "      <td>2021-09-03 00:00:00</td>\n",
       "      <td>3793.300743</td>\n",
       "      <td>2.811578e+10</td>\n",
       "      <td>15363.519530</td>\n",
       "      <td>3706990000</td>\n",
       "    </tr>\n",
       "  </tbody>\n",
       "</table>\n",
       "<p>1508 rows × 5 columns</p>\n",
       "</div>"
      ],
      "text/plain": [
       "                    Fecha   precio_eth   volumen_eth  precio_nasdaq  \\\n",
       "0     2015-09-08 00:00:00     1.236033  4.191488e+05    4811.930176   \n",
       "1     2015-09-09 00:00:00     1.206530  3.677743e+05    4756.529785   \n",
       "2     2015-09-10 00:00:00     1.167235  6.395279e+05    4796.250000   \n",
       "3     2015-09-11 00:00:00     0.976509  1.901711e+06    4822.339844   \n",
       "4     2015-09-14 00:00:00     0.874023  7.392137e+05    4805.759766   \n",
       "...                   ...          ...           ...            ...   \n",
       "1503  2021-08-30 00:00:00  3233.383152  1.411021e+10   15265.889650   \n",
       "1504  2021-08-31 00:00:00  3232.733863  2.174106e+10   15259.240230   \n",
       "1505  2021-09-01 00:00:00  3440.562336  3.220164e+10   15309.379880   \n",
       "1506  2021-09-02 00:00:00  3790.613996  3.446510e+10   15331.179690   \n",
       "1507  2021-09-03 00:00:00  3793.300743  2.811578e+10   15363.519530   \n",
       "\n",
       "      volumen_nasdaq  \n",
       "0         1765600000  \n",
       "1         1963750000  \n",
       "2         1845770000  \n",
       "3         1686190000  \n",
       "4         1467740000  \n",
       "...              ...  \n",
       "1503      4061760000  \n",
       "1504      4188020000  \n",
       "1505      4271690000  \n",
       "1506      4050510000  \n",
       "1507      3706990000  \n",
       "\n",
       "[1508 rows x 5 columns]"
      ]
     },
     "execution_count": 30,
     "metadata": {},
     "output_type": "execute_result"
    }
   ],
   "source": [
    "df_garch = df.copy()\n",
    "df_garch"
   ]
  },
  {
   "cell_type": "markdown",
   "metadata": {},
   "source": [
    "## Calcular los rendimientos logarítmicos de Ethereum y Nasdaq"
   ]
  },
  {
   "cell_type": "code",
   "execution_count": 31,
   "metadata": {},
   "outputs": [
    {
     "data": {
      "text/html": [
       "<div>\n",
       "<style scoped>\n",
       "    .dataframe tbody tr th:only-of-type {\n",
       "        vertical-align: middle;\n",
       "    }\n",
       "\n",
       "    .dataframe tbody tr th {\n",
       "        vertical-align: top;\n",
       "    }\n",
       "\n",
       "    .dataframe thead th {\n",
       "        text-align: right;\n",
       "    }\n",
       "</style>\n",
       "<table border=\"1\" class=\"dataframe\">\n",
       "  <thead>\n",
       "    <tr style=\"text-align: right;\">\n",
       "      <th></th>\n",
       "      <th>Fecha</th>\n",
       "      <th>precio_eth</th>\n",
       "      <th>volumen_eth</th>\n",
       "      <th>precio_nasdaq</th>\n",
       "      <th>volumen_nasdaq</th>\n",
       "    </tr>\n",
       "  </thead>\n",
       "  <tbody>\n",
       "    <tr>\n",
       "      <th>0</th>\n",
       "      <td>2015-09-08 00:00:00</td>\n",
       "      <td>NaN</td>\n",
       "      <td>4.191488e+05</td>\n",
       "      <td>NaN</td>\n",
       "      <td>1765600000</td>\n",
       "    </tr>\n",
       "    <tr>\n",
       "      <th>1</th>\n",
       "      <td>2015-09-09 00:00:00</td>\n",
       "      <td>-0.024159</td>\n",
       "      <td>3.677743e+05</td>\n",
       "      <td>-0.011580</td>\n",
       "      <td>1963750000</td>\n",
       "    </tr>\n",
       "    <tr>\n",
       "      <th>2</th>\n",
       "      <td>2015-09-10 00:00:00</td>\n",
       "      <td>-0.033111</td>\n",
       "      <td>6.395279e+05</td>\n",
       "      <td>0.008316</td>\n",
       "      <td>1845770000</td>\n",
       "    </tr>\n",
       "    <tr>\n",
       "      <th>3</th>\n",
       "      <td>2015-09-11 00:00:00</td>\n",
       "      <td>-0.178409</td>\n",
       "      <td>1.901711e+06</td>\n",
       "      <td>0.005425</td>\n",
       "      <td>1686190000</td>\n",
       "    </tr>\n",
       "    <tr>\n",
       "      <th>4</th>\n",
       "      <td>2015-09-14 00:00:00</td>\n",
       "      <td>-0.110877</td>\n",
       "      <td>7.392137e+05</td>\n",
       "      <td>-0.003444</td>\n",
       "      <td>1467740000</td>\n",
       "    </tr>\n",
       "    <tr>\n",
       "      <th>...</th>\n",
       "      <td>...</td>\n",
       "      <td>...</td>\n",
       "      <td>...</td>\n",
       "      <td>...</td>\n",
       "      <td>...</td>\n",
       "    </tr>\n",
       "    <tr>\n",
       "      <th>1503</th>\n",
       "      <td>2021-08-30 00:00:00</td>\n",
       "      <td>0.034744</td>\n",
       "      <td>1.411021e+10</td>\n",
       "      <td>0.008974</td>\n",
       "      <td>4061760000</td>\n",
       "    </tr>\n",
       "    <tr>\n",
       "      <th>1504</th>\n",
       "      <td>2021-08-31 00:00:00</td>\n",
       "      <td>-0.000201</td>\n",
       "      <td>2.174106e+10</td>\n",
       "      <td>-0.000436</td>\n",
       "      <td>4188020000</td>\n",
       "    </tr>\n",
       "    <tr>\n",
       "      <th>1505</th>\n",
       "      <td>2021-09-01 00:00:00</td>\n",
       "      <td>0.062307</td>\n",
       "      <td>3.220164e+10</td>\n",
       "      <td>0.003280</td>\n",
       "      <td>4271690000</td>\n",
       "    </tr>\n",
       "    <tr>\n",
       "      <th>1506</th>\n",
       "      <td>2021-09-02 00:00:00</td>\n",
       "      <td>0.096893</td>\n",
       "      <td>3.446510e+10</td>\n",
       "      <td>0.001423</td>\n",
       "      <td>4050510000</td>\n",
       "    </tr>\n",
       "    <tr>\n",
       "      <th>1507</th>\n",
       "      <td>2021-09-03 00:00:00</td>\n",
       "      <td>0.000709</td>\n",
       "      <td>2.811578e+10</td>\n",
       "      <td>0.002107</td>\n",
       "      <td>3706990000</td>\n",
       "    </tr>\n",
       "  </tbody>\n",
       "</table>\n",
       "<p>1508 rows × 5 columns</p>\n",
       "</div>"
      ],
      "text/plain": [
       "                    Fecha  precio_eth   volumen_eth  precio_nasdaq  \\\n",
       "0     2015-09-08 00:00:00         NaN  4.191488e+05            NaN   \n",
       "1     2015-09-09 00:00:00   -0.024159  3.677743e+05      -0.011580   \n",
       "2     2015-09-10 00:00:00   -0.033111  6.395279e+05       0.008316   \n",
       "3     2015-09-11 00:00:00   -0.178409  1.901711e+06       0.005425   \n",
       "4     2015-09-14 00:00:00   -0.110877  7.392137e+05      -0.003444   \n",
       "...                   ...         ...           ...            ...   \n",
       "1503  2021-08-30 00:00:00    0.034744  1.411021e+10       0.008974   \n",
       "1504  2021-08-31 00:00:00   -0.000201  2.174106e+10      -0.000436   \n",
       "1505  2021-09-01 00:00:00    0.062307  3.220164e+10       0.003280   \n",
       "1506  2021-09-02 00:00:00    0.096893  3.446510e+10       0.001423   \n",
       "1507  2021-09-03 00:00:00    0.000709  2.811578e+10       0.002107   \n",
       "\n",
       "      volumen_nasdaq  \n",
       "0         1765600000  \n",
       "1         1963750000  \n",
       "2         1845770000  \n",
       "3         1686190000  \n",
       "4         1467740000  \n",
       "...              ...  \n",
       "1503      4061760000  \n",
       "1504      4188020000  \n",
       "1505      4271690000  \n",
       "1506      4050510000  \n",
       "1507      3706990000  \n",
       "\n",
       "[1508 rows x 5 columns]"
      ]
     },
     "execution_count": 31,
     "metadata": {},
     "output_type": "execute_result"
    }
   ],
   "source": [
    "df_garch[\"precio_eth\"] = np.log(df_garch[\"precio_eth\"]).diff()\n",
    "df_garch[\"precio_nasdaq\"] = np.log(df_garch[\"precio_nasdaq\"]).diff()\n",
    "df_garch"
   ]
  },
  {
   "cell_type": "markdown",
   "metadata": {},
   "source": [
    "## Eliminando valores faltantes"
   ]
  },
  {
   "cell_type": "code",
   "execution_count": 32,
   "metadata": {},
   "outputs": [
    {
     "data": {
      "text/html": [
       "<div>\n",
       "<style scoped>\n",
       "    .dataframe tbody tr th:only-of-type {\n",
       "        vertical-align: middle;\n",
       "    }\n",
       "\n",
       "    .dataframe tbody tr th {\n",
       "        vertical-align: top;\n",
       "    }\n",
       "\n",
       "    .dataframe thead th {\n",
       "        text-align: right;\n",
       "    }\n",
       "</style>\n",
       "<table border=\"1\" class=\"dataframe\">\n",
       "  <thead>\n",
       "    <tr style=\"text-align: right;\">\n",
       "      <th></th>\n",
       "      <th>Fecha</th>\n",
       "      <th>precio_eth</th>\n",
       "      <th>volumen_eth</th>\n",
       "      <th>precio_nasdaq</th>\n",
       "      <th>volumen_nasdaq</th>\n",
       "    </tr>\n",
       "  </thead>\n",
       "  <tbody>\n",
       "    <tr>\n",
       "      <th>1</th>\n",
       "      <td>2015-09-09 00:00:00</td>\n",
       "      <td>-0.024159</td>\n",
       "      <td>3.677743e+05</td>\n",
       "      <td>-0.011580</td>\n",
       "      <td>1963750000</td>\n",
       "    </tr>\n",
       "    <tr>\n",
       "      <th>2</th>\n",
       "      <td>2015-09-10 00:00:00</td>\n",
       "      <td>-0.033111</td>\n",
       "      <td>6.395279e+05</td>\n",
       "      <td>0.008316</td>\n",
       "      <td>1845770000</td>\n",
       "    </tr>\n",
       "    <tr>\n",
       "      <th>3</th>\n",
       "      <td>2015-09-11 00:00:00</td>\n",
       "      <td>-0.178409</td>\n",
       "      <td>1.901711e+06</td>\n",
       "      <td>0.005425</td>\n",
       "      <td>1686190000</td>\n",
       "    </tr>\n",
       "    <tr>\n",
       "      <th>4</th>\n",
       "      <td>2015-09-14 00:00:00</td>\n",
       "      <td>-0.110877</td>\n",
       "      <td>7.392137e+05</td>\n",
       "      <td>-0.003444</td>\n",
       "      <td>1467740000</td>\n",
       "    </tr>\n",
       "    <tr>\n",
       "      <th>5</th>\n",
       "      <td>2015-09-15 00:00:00</td>\n",
       "      <td>0.074711</td>\n",
       "      <td>7.258165e+05</td>\n",
       "      <td>0.011330</td>\n",
       "      <td>1587460000</td>\n",
       "    </tr>\n",
       "    <tr>\n",
       "      <th>...</th>\n",
       "      <td>...</td>\n",
       "      <td>...</td>\n",
       "      <td>...</td>\n",
       "      <td>...</td>\n",
       "      <td>...</td>\n",
       "    </tr>\n",
       "    <tr>\n",
       "      <th>1503</th>\n",
       "      <td>2021-08-30 00:00:00</td>\n",
       "      <td>0.034744</td>\n",
       "      <td>1.411021e+10</td>\n",
       "      <td>0.008974</td>\n",
       "      <td>4061760000</td>\n",
       "    </tr>\n",
       "    <tr>\n",
       "      <th>1504</th>\n",
       "      <td>2021-08-31 00:00:00</td>\n",
       "      <td>-0.000201</td>\n",
       "      <td>2.174106e+10</td>\n",
       "      <td>-0.000436</td>\n",
       "      <td>4188020000</td>\n",
       "    </tr>\n",
       "    <tr>\n",
       "      <th>1505</th>\n",
       "      <td>2021-09-01 00:00:00</td>\n",
       "      <td>0.062307</td>\n",
       "      <td>3.220164e+10</td>\n",
       "      <td>0.003280</td>\n",
       "      <td>4271690000</td>\n",
       "    </tr>\n",
       "    <tr>\n",
       "      <th>1506</th>\n",
       "      <td>2021-09-02 00:00:00</td>\n",
       "      <td>0.096893</td>\n",
       "      <td>3.446510e+10</td>\n",
       "      <td>0.001423</td>\n",
       "      <td>4050510000</td>\n",
       "    </tr>\n",
       "    <tr>\n",
       "      <th>1507</th>\n",
       "      <td>2021-09-03 00:00:00</td>\n",
       "      <td>0.000709</td>\n",
       "      <td>2.811578e+10</td>\n",
       "      <td>0.002107</td>\n",
       "      <td>3706990000</td>\n",
       "    </tr>\n",
       "  </tbody>\n",
       "</table>\n",
       "<p>1507 rows × 5 columns</p>\n",
       "</div>"
      ],
      "text/plain": [
       "                    Fecha  precio_eth   volumen_eth  precio_nasdaq  \\\n",
       "1     2015-09-09 00:00:00   -0.024159  3.677743e+05      -0.011580   \n",
       "2     2015-09-10 00:00:00   -0.033111  6.395279e+05       0.008316   \n",
       "3     2015-09-11 00:00:00   -0.178409  1.901711e+06       0.005425   \n",
       "4     2015-09-14 00:00:00   -0.110877  7.392137e+05      -0.003444   \n",
       "5     2015-09-15 00:00:00    0.074711  7.258165e+05       0.011330   \n",
       "...                   ...         ...           ...            ...   \n",
       "1503  2021-08-30 00:00:00    0.034744  1.411021e+10       0.008974   \n",
       "1504  2021-08-31 00:00:00   -0.000201  2.174106e+10      -0.000436   \n",
       "1505  2021-09-01 00:00:00    0.062307  3.220164e+10       0.003280   \n",
       "1506  2021-09-02 00:00:00    0.096893  3.446510e+10       0.001423   \n",
       "1507  2021-09-03 00:00:00    0.000709  2.811578e+10       0.002107   \n",
       "\n",
       "      volumen_nasdaq  \n",
       "1         1963750000  \n",
       "2         1845770000  \n",
       "3         1686190000  \n",
       "4         1467740000  \n",
       "5         1587460000  \n",
       "...              ...  \n",
       "1503      4061760000  \n",
       "1504      4188020000  \n",
       "1505      4271690000  \n",
       "1506      4050510000  \n",
       "1507      3706990000  \n",
       "\n",
       "[1507 rows x 5 columns]"
      ]
     },
     "execution_count": 32,
     "metadata": {},
     "output_type": "execute_result"
    }
   ],
   "source": [
    "df_garch.dropna(inplace=True)\n",
    "df_garch"
   ]
  },
  {
   "cell_type": "markdown",
   "metadata": {},
   "source": [
    "## Regresiones Logarítmicas"
   ]
  },
  {
   "cell_type": "code",
   "execution_count": 35,
   "metadata": {},
   "outputs": [
    {
     "data": {
      "text/html": [
       "<div>\n",
       "<style scoped>\n",
       "    .dataframe tbody tr th:only-of-type {\n",
       "        vertical-align: middle;\n",
       "    }\n",
       "\n",
       "    .dataframe tbody tr th {\n",
       "        vertical-align: top;\n",
       "    }\n",
       "\n",
       "    .dataframe thead th {\n",
       "        text-align: right;\n",
       "    }\n",
       "</style>\n",
       "<table border=\"1\" class=\"dataframe\">\n",
       "  <thead>\n",
       "    <tr style=\"text-align: right;\">\n",
       "      <th></th>\n",
       "      <th>Fecha</th>\n",
       "      <th>precio_eth</th>\n",
       "      <th>precio_eth_log</th>\n",
       "      <th>volumen_eth</th>\n",
       "      <th>volumen_eth_log</th>\n",
       "      <th>precio_nasdaq</th>\n",
       "      <th>precio_nasdaq_log</th>\n",
       "      <th>volumen_nasdaq</th>\n",
       "      <th>volumen_nasdaq_log</th>\n",
       "    </tr>\n",
       "  </thead>\n",
       "  <tbody>\n",
       "    <tr>\n",
       "      <th>0</th>\n",
       "      <td>2015-09-08 0:00:00</td>\n",
       "      <td>1,236</td>\n",
       "      <td>0,212</td>\n",
       "      <td>419.148,80</td>\n",
       "      <td>12,95</td>\n",
       "      <td>4.811,93</td>\n",
       "      <td>8,48</td>\n",
       "      <td>1.765.600.000,00</td>\n",
       "      <td>21,29175641</td>\n",
       "    </tr>\n",
       "    <tr>\n",
       "      <th>1</th>\n",
       "      <td>2015-09-09 0:00:00</td>\n",
       "      <td>1,207</td>\n",
       "      <td>0,188</td>\n",
       "      <td>367.774,33</td>\n",
       "      <td>12,82</td>\n",
       "      <td>4.756,53</td>\n",
       "      <td>8,47</td>\n",
       "      <td>1.963.750.000,00</td>\n",
       "      <td>21,39812175</td>\n",
       "    </tr>\n",
       "    <tr>\n",
       "      <th>2</th>\n",
       "      <td>2015-09-10 0:00:00</td>\n",
       "      <td>1,167</td>\n",
       "      <td>0,155</td>\n",
       "      <td>639.527,92</td>\n",
       "      <td>13,37</td>\n",
       "      <td>4.796,25</td>\n",
       "      <td>8,48</td>\n",
       "      <td>1.845.770.000,00</td>\n",
       "      <td>21,33616237</td>\n",
       "    </tr>\n",
       "    <tr>\n",
       "      <th>3</th>\n",
       "      <td>2015-09-11 0:00:00</td>\n",
       "      <td>0,977</td>\n",
       "      <td>-0,024</td>\n",
       "      <td>1.901.710,70</td>\n",
       "      <td>14,46</td>\n",
       "      <td>4.822,34</td>\n",
       "      <td>8,48</td>\n",
       "      <td>1.686.190.000,00</td>\n",
       "      <td>21,24573738</td>\n",
       "    </tr>\n",
       "    <tr>\n",
       "      <th>4</th>\n",
       "      <td>2015-09-14 0:00:00</td>\n",
       "      <td>0,874</td>\n",
       "      <td>-0,135</td>\n",
       "      <td>739.213,73</td>\n",
       "      <td>13,51</td>\n",
       "      <td>4.805,76</td>\n",
       "      <td>8,48</td>\n",
       "      <td>1.467.740.000,00</td>\n",
       "      <td>21,10698964</td>\n",
       "    </tr>\n",
       "    <tr>\n",
       "      <th>...</th>\n",
       "      <td>...</td>\n",
       "      <td>...</td>\n",
       "      <td>...</td>\n",
       "      <td>...</td>\n",
       "      <td>...</td>\n",
       "      <td>...</td>\n",
       "      <td>...</td>\n",
       "      <td>...</td>\n",
       "      <td>...</td>\n",
       "    </tr>\n",
       "    <tr>\n",
       "      <th>1503</th>\n",
       "      <td>2021-08-30 0:00:00</td>\n",
       "      <td>3.233,383</td>\n",
       "      <td>8,081</td>\n",
       "      <td>14.110.206.249,00</td>\n",
       "      <td>23,37</td>\n",
       "      <td>15.265,89</td>\n",
       "      <td>9,63</td>\n",
       "      <td>4.061.760.000,00</td>\n",
       "      <td>22,12488221</td>\n",
       "    </tr>\n",
       "    <tr>\n",
       "      <th>1504</th>\n",
       "      <td>2021-08-31 0:00:00</td>\n",
       "      <td>3.232,734</td>\n",
       "      <td>8,081</td>\n",
       "      <td>21.741.061.739,00</td>\n",
       "      <td>23,80</td>\n",
       "      <td>15.259,24</td>\n",
       "      <td>9,63</td>\n",
       "      <td>4.188.020.000,00</td>\n",
       "      <td>22,15549391</td>\n",
       "    </tr>\n",
       "    <tr>\n",
       "      <th>1505</th>\n",
       "      <td>2021-09-01 0:00:00</td>\n",
       "      <td>3.440,562</td>\n",
       "      <td>8,143</td>\n",
       "      <td>32.201.644.523,00</td>\n",
       "      <td>24,20</td>\n",
       "      <td>15.309,38</td>\n",
       "      <td>9,64</td>\n",
       "      <td>4.271.690.000,00</td>\n",
       "      <td>22,17527537</td>\n",
       "    </tr>\n",
       "    <tr>\n",
       "      <th>1506</th>\n",
       "      <td>2021-09-02 0:00:00</td>\n",
       "      <td>3.790,614</td>\n",
       "      <td>8,240</td>\n",
       "      <td>34.465.100.678,00</td>\n",
       "      <td>24,26</td>\n",
       "      <td>15.331,18</td>\n",
       "      <td>9,64</td>\n",
       "      <td>4.050.510.000,00</td>\n",
       "      <td>22,12210864</td>\n",
       "    </tr>\n",
       "    <tr>\n",
       "      <th>1507</th>\n",
       "      <td>2021-09-03 0:00:00</td>\n",
       "      <td>3.793,301</td>\n",
       "      <td>8,241</td>\n",
       "      <td>28.115.776.510,00</td>\n",
       "      <td>24,06</td>\n",
       "      <td>15.363,52</td>\n",
       "      <td>9,64</td>\n",
       "      <td>3.706.990.000,00</td>\n",
       "      <td>22,03348606</td>\n",
       "    </tr>\n",
       "  </tbody>\n",
       "</table>\n",
       "<p>1508 rows × 9 columns</p>\n",
       "</div>"
      ],
      "text/plain": [
       "                   Fecha precio_eth precio_eth_log        volumen_eth  \\\n",
       "0     2015-09-08 0:00:00      1,236          0,212         419.148,80   \n",
       "1     2015-09-09 0:00:00      1,207          0,188         367.774,33   \n",
       "2     2015-09-10 0:00:00      1,167          0,155         639.527,92   \n",
       "3     2015-09-11 0:00:00      0,977         -0,024       1.901.710,70   \n",
       "4     2015-09-14 0:00:00      0,874         -0,135         739.213,73   \n",
       "...                  ...        ...            ...                ...   \n",
       "1503  2021-08-30 0:00:00  3.233,383          8,081  14.110.206.249,00   \n",
       "1504  2021-08-31 0:00:00  3.232,734          8,081  21.741.061.739,00   \n",
       "1505  2021-09-01 0:00:00  3.440,562          8,143  32.201.644.523,00   \n",
       "1506  2021-09-02 0:00:00  3.790,614          8,240  34.465.100.678,00   \n",
       "1507  2021-09-03 0:00:00  3.793,301          8,241  28.115.776.510,00   \n",
       "\n",
       "     volumen_eth_log precio_nasdaq precio_nasdaq_log    volumen_nasdaq  \\\n",
       "0              12,95      4.811,93              8,48  1.765.600.000,00   \n",
       "1              12,82      4.756,53              8,47  1.963.750.000,00   \n",
       "2              13,37      4.796,25              8,48  1.845.770.000,00   \n",
       "3              14,46      4.822,34              8,48  1.686.190.000,00   \n",
       "4              13,51      4.805,76              8,48  1.467.740.000,00   \n",
       "...              ...           ...               ...               ...   \n",
       "1503           23,37     15.265,89              9,63  4.061.760.000,00   \n",
       "1504           23,80     15.259,24              9,63  4.188.020.000,00   \n",
       "1505           24,20     15.309,38              9,64  4.271.690.000,00   \n",
       "1506           24,26     15.331,18              9,64  4.050.510.000,00   \n",
       "1507           24,06     15.363,52              9,64  3.706.990.000,00   \n",
       "\n",
       "     volumen_nasdaq_log  \n",
       "0           21,29175641  \n",
       "1           21,39812175  \n",
       "2           21,33616237  \n",
       "3           21,24573738  \n",
       "4           21,10698964  \n",
       "...                 ...  \n",
       "1503        22,12488221  \n",
       "1504        22,15549391  \n",
       "1505        22,17527537  \n",
       "1506        22,12210864  \n",
       "1507        22,03348606  \n",
       "\n",
       "[1508 rows x 9 columns]"
      ]
     },
     "execution_count": 35,
     "metadata": {},
     "output_type": "execute_result"
    }
   ],
   "source": [
    "df_log = pd.read_csv('./data/tesis_total_data_log.csv')\n",
    "df_log"
   ]
  },
  {
   "cell_type": "code",
   "execution_count": 36,
   "metadata": {},
   "outputs": [],
   "source": [
    "class DF_LOG(DFV):\n",
    "    PE_LOG = \"precio_eth_log\"\n",
    "    VE_LOG = \"volumen_eth_log\"\n",
    "    PN_LOG = \"precio_nasdaq_log\"\n",
    "    VN_LOG = \"volumen_nasdaq_log\""
   ]
  },
  {
   "cell_type": "markdown",
   "metadata": {},
   "source": [
    "### Modelo 1"
   ]
  },
  {
   "cell_type": "code",
   "execution_count": null,
   "metadata": {},
   "outputs": [],
   "source": []
  }
 ],
 "metadata": {
  "kernelspec": {
   "display_name": "base",
   "language": "python",
   "name": "python3"
  },
  "language_info": {
   "codemirror_mode": {
    "name": "ipython",
    "version": 3
   },
   "file_extension": ".py",
   "mimetype": "text/x-python",
   "name": "python",
   "nbconvert_exporter": "python",
   "pygments_lexer": "ipython3",
   "version": "3.11.3"
  },
  "orig_nbformat": 4
 },
 "nbformat": 4,
 "nbformat_minor": 2
}
